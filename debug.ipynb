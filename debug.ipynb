{
 "cells": [
  {
   "cell_type": "code",
   "execution_count": 2,
   "metadata": {
    "collapsed": false
   },
   "outputs": [],
   "source": [
    "\n",
    "\n",
    "import Input\n",
    "import sys\n",
    "import decisionRule\n",
    "import rALP\n",
    "import time\n",
    "import simulation\n",
    "import CustomizeDemand\n",
    "import gene\n",
    "import numpy as np\n",
    "#from guppy import hpy\n",
    "\n",
    "reductionALP=0\n",
    "firstCaseInReSolve=1\n",
    "secondCaseInReSolve=2\n",
    "'''\n",
    "choose,t,limt,d,T = int(sys.argv[1]),int(sys.argv[2]),int(sys.argv[3]),int(sys.argv[4]),int(sys.argv[5])\n",
    "demander = CustomizeDemand.CustomizeDemand(choose,t,limt,d,T)\n",
    "'''\n",
    "demander = CustomizeDemand.CustomizeDemand(1,5,5,1,40)"
   ]
  },
  {
   "cell_type": "code",
   "execution_count": 3,
   "metadata": {
    "collapsed": false
   },
   "outputs": [
    {
     "name": "stdout",
     "output_type": "stream",
     "text": [
      "Input End 0.0\n",
      "AddVar End 1.48280084042\n",
      "AddOpt End 2.67241176544\n",
      "AddCons End 191.142001958\n",
      "Optimize a model with 213020 rows, 255020 columns and 1429167 nonzeros\n",
      "Coefficient statistics:\n",
      "  Matrix range    [8e-07, 1e+02]\n",
      "  Objective range [8e-05, 5e+02]\n",
      "  Bounds range    [2e-01, 5e+01]\n",
      "  RHS range       [8e+02, 8e+02]\n",
      "\n",
      "Concurrent LP optimizer: dual simplex and barrier\n",
      "Showing barrier log only...\n",
      "\n",
      "Presolve removed 56776 rows and 232682 columns\n",
      "Presolve time: 1.41s\n",
      "Presolved: 156244 rows, 22338 columns, 497345 nonzeros\n",
      "\n",
      "Ordering time: 0.27s\n",
      "\n",
      "Barrier statistics:\n",
      " Free vars  : 6700\n",
      " AA' NZ     : 5.801e+06\n",
      " Factor NZ  : 6.418e+06 (roughly 120 MBytes of memory)\n",
      " Factor Ops : 3.574e+08 (less than 1 second per iteration)\n",
      " Threads    : 1\n",
      "\n",
      "                  Objective                Residual\n",
      "Iter       Primal          Dual         Primal    Dual     Compl     Time\n",
      "   0   3.24429877e+06  1.22399056e+08  1.34e+02 2.41e+03  6.38e+04     3s\n",
      "   1   2.36755809e+06  1.25709936e+08  1.17e+02 1.16e+04  4.39e+04     3s\n",
      "   2   7.08307251e+05  1.49603509e+08  4.96e+01 4.77e+03  1.72e+04     4s\n",
      "   3   3.31013008e+05  1.52331403e+08  2.18e+01 1.37e+03  7.14e+03     4s\n",
      "   4   1.17310969e+05  1.16957289e+08  5.55e+00 7.76e+01  1.82e+03     5s\n",
      "   5   6.43381877e+04  4.34592588e+07  1.36e+00 2.00e+00  3.62e+02     5s\n",
      "   6   4.88573584e+04  1.21904120e+07  3.64e-01 1.02e-01  7.75e+01     6s\n",
      "   7   6.06463675e+04  2.33874192e+06  8.09e-03 1.22e-02  1.27e+01     7s\n",
      "   8   1.16578394e+05  1.44254925e+06  5.90e-03 6.54e-03  7.39e+00     7s\n",
      "   9   1.62219382e+05  1.13504319e+06  5.16e-03 4.28e-03  5.42e+00     8s\n",
      "  10   2.04012115e+05  1.01646553e+06  4.37e-03 3.43e-03  4.53e+00     9s\n",
      "  11   2.19821041e+05  8.97167897e+05  3.97e-03 2.67e-03  3.77e+00     9s\n",
      "  12   2.42861825e+05  8.13043546e+05  3.39e-03 2.23e-03  3.18e+00    10s\n",
      "  13   2.46851831e+05  7.73911609e+05  3.22e-03 2.04e-03  2.94e+00    10s\n",
      "  14   2.48544106e+05  7.42263641e+05  2.94e-03 1.90e-03  2.75e+00    11s\n",
      "  15   2.57790057e+05  7.11129610e+05  2.67e-03 1.74e-03  2.53e+00    11s\n",
      "  16   2.64888995e+05  6.64265207e+05  2.42e-03 1.53e-03  2.23e+00    11s\n",
      "  17   2.68460129e+05  6.19143967e+05  2.22e-03 1.32e-03  1.96e+00    12s\n",
      "  18   2.76752305e+05  5.95109977e+05  1.91e-03 1.20e-03  1.78e+00    12s\n",
      "  19   2.83668635e+05  5.32956844e+05  1.67e-03 9.05e-04  1.39e+00    13s\n",
      "  20   2.86502283e+05  5.18651300e+05  1.61e-03 8.31e-04  1.30e+00    13s\n",
      "  21   2.89792131e+05  5.12692192e+05  1.56e-03 7.96e-04  1.24e+00    14s\n",
      "  22   2.91884634e+05  5.01476887e+05  1.51e-03 7.39e-04  1.17e+00    15s\n",
      "  23   2.95786224e+05  4.94761722e+05  1.45e-03 6.99e-04  1.11e+00    15s\n",
      "  24   2.99505435e+05  4.84920175e+05  1.38e-03 6.46e-04  1.03e+00    16s\n",
      "  25   3.02385066e+05  4.77159886e+05  1.31e-03 6.06e-04  9.75e-01    16s\n",
      "  26   3.04379291e+05  4.73865434e+05  1.26e-03 5.89e-04  9.46e-01    17s\n",
      "  27   3.05452051e+05  4.68348093e+05  1.24e-03 5.59e-04  9.09e-01    17s\n",
      "  28   3.09011354e+05  4.56508800e+05  1.17e-03 4.96e-04  8.23e-01    18s\n",
      "  29   3.13275785e+05  4.52633595e+05  1.11e-03 4.73e-04  7.78e-01    18s\n",
      "  30   3.48290098e+05  4.34719724e+05  6.75e-04 2.41e-04  4.82e-01    19s\n",
      "  31   3.62363042e+05  4.28014245e+05  5.42e-04 1.60e-04  3.66e-01    19s\n",
      "  32   3.71668470e+05  4.25041562e+05  4.54e-04 1.02e-04  2.98e-01    20s\n",
      "  33   3.81465049e+05  4.23127024e+05  3.62e-04 5.82e-05  2.32e-01    21s\n",
      "  34   3.85848270e+05  4.22375746e+05  3.21e-04 3.99e-05  2.03e-01    21s\n",
      "  35   3.89808995e+05  4.22267339e+05  2.83e-04 3.72e-05  1.81e-01    22s\n",
      "  36   3.93901693e+05  4.21642177e+05  2.45e-04 2.09e-05  1.54e-01    22s\n",
      "  37   3.99628645e+05  4.21364970e+05  1.92e-04 1.72e-05  1.21e-01    23s\n",
      "  38   4.02622282e+05  4.21247756e+05  1.67e-04 1.75e-05  1.04e-01    24s\n",
      "  39   4.06920145e+05  4.21073625e+05  1.28e-04 1.72e-05  7.89e-02    25s\n",
      "  40   4.08777692e+05  4.20930853e+05  1.12e-04 1.66e-05  6.77e-02    26s\n",
      "  41   4.10157073e+05  4.20866105e+05  1.01e-04 1.54e-05  5.97e-02    27s\n",
      "  42   4.11453936e+05  4.20767443e+05  9.58e-05 1.37e-05  5.19e-02    28s\n",
      "\n",
      "Barrier performed 42 iterations in 28.22 seconds\n",
      "Barrier solve interrupted - model solved by another algorithm\n",
      "\n",
      "\n",
      "Solved with dual simplex\n",
      "Solved in 28460 iterations and 28.52 seconds\n",
      "Optimal objective  4.203745563e+05\n"
     ]
    }
   ],
   "source": [
    "\n",
    "decisionSolver = decisionRule.decisionRule()\n",
    "#   decisionSolver.echoInput()\n",
    "#decisionSolver.echoVal()\n",
    "decisionSolver.inputDemand(demander)\n",
    "start = time.clock()\n",
    "print \"Input End\",start\n",
    "decisionSolver.addVar()\n",
    "print \"AddVar End\",time.clock()\n",
    "decisionSolver.addOpt()\n",
    "print \"AddOpt End\",time.clock()\n",
    "decisionSolver.addConstr()\n",
    "end = time.clock()\n",
    "print \"AddCons End\",end\n",
    "#decisionSolver.writeMPS()\n",
    "decisionSolver.solve()   \n",
    "#decisionSolver.expectedLeftDemand()\n",
    "#decisionSolver.echoOpt()    \n",
    "\n"
   ]
  },
  {
   "cell_type": "code",
   "execution_count": 4,
   "metadata": {
    "collapsed": false,
    "scrolled": true
   },
   "outputs": [
    {
     "name": "stdout",
     "output_type": "stream",
     "text": [
      "[ 420017.86]\n",
      "[ 418673.92]\n",
      "[ 419862.52]\n",
      "[ 417346.84]\n",
      "[ 407947.02]\n",
      "[ 399159.66]\n"
     ]
    }
   ],
   "source": [
    "simulator = simulation.simulation(decisionSolver,demander)\n",
    "\n",
    "#simulator.initX()\n",
    "#simulator.initXX()\n",
    "#simulator.echoXX()\n",
    "#simulator.bookLimLeft()\n",
    "print simulator.bookLimRun(np.round,1000)\n",
    "print simulator.bookLimRun(np.ceil,1000)\n",
    "print simulator.bookLimRun(np.floor,1000)\n",
    "print simulator.bookLimRun(simulator.atLeastOne,1000)\n",
    "print simulator.bookLimRun(simulator.atLeastTwo,1000)\n",
    "print simulator.bookLimRun(simulator.atLeastThree,1000)\n"
   ]
  },
  {
   "cell_type": "code",
   "execution_count": null,
   "metadata": {
    "collapsed": false
   },
   "outputs": [],
   "source": [
    "c = decisionSolver.c.copy()\n",
    "for t in range(decisionSolver.t):\n",
    "    for j in range(decisionSolver.j):\n",
    "        for i in decisionSolver.refJ[j]:\n",
    "            for a in range(decisionSolver.a):\n",
    "                for b in range(decisionSolver.b):\n",
    "                    c[i] -= decisionSolver.x[t,j,a,b].x*decisionSolver.xi[t,j,a,b]\n",
    "print c"
   ]
  },
  {
   "cell_type": "code",
   "execution_count": null,
   "metadata": {
    "collapsed": false
   },
   "outputs": [],
   "source": [
    "pd.DataFrame(decisionSolver.w[decisionSolver.t*decisionSolver.j*8+1].todense())"
   ]
  },
  {
   "cell_type": "code",
   "execution_count": null,
   "metadata": {
    "collapsed": false
   },
   "outputs": [],
   "source": [
    "d=decisionSolver"
   ]
  },
  {
   "cell_type": "code",
   "execution_count": null,
   "metadata": {
    "collapsed": false
   },
   "outputs": [],
   "source": [
    "m=demander"
   ]
  },
  {
   "cell_type": "code",
   "execution_count": null,
   "metadata": {
    "collapsed": false
   },
   "outputs": [],
   "source": [
    "obj = 0\n",
    "\n",
    "for t in range(0,self.t):\n",
    "    for j in range(0,self.j):\n",
    "        for a in range(self.a):\n",
    "            for b in range(self.b):\n",
    "                obj += self.v[j,0] * self.x[t,j,a,b].x * self.xi[t,j,a,b]\n",
    "                    "
   ]
  },
  {
   "cell_type": "code",
   "execution_count": null,
   "metadata": {
    "collapsed": false
   },
   "outputs": [],
   "source": [
    "d = decisionSolver"
   ]
  },
  {
   "cell_type": "code",
   "execution_count": null,
   "metadata": {
    "collapsed": false
   },
   "outputs": [],
   "source": [
    "m = demander"
   ]
  },
  {
   "cell_type": "code",
   "execution_count": null,
   "metadata": {
    "collapsed": false
   },
   "outputs": [],
   "source": [
    "x=np.zeros((d.t,d.j,d.a,d.b))\n",
    "for t in range(d.t):\n",
    "    for j in range(d.j):\n",
    "        for a in range(d.a):\n",
    "            for b in range(d.b):\n",
    "                x[t,j,a,b] = d.x[t,j,a,b].x"
   ]
  },
  {
   "cell_type": "code",
   "execution_count": null,
   "metadata": {
    "collapsed": false
   },
   "outputs": [],
   "source": [
    "x[2,2,:,1]"
   ]
  },
  {
   "cell_type": "code",
   "execution_count": null,
   "metadata": {
    "collapsed": false
   },
   "outputs": [],
   "source": [
    "x[2,4,:,1]"
   ]
  },
  {
   "cell_type": "code",
   "execution_count": null,
   "metadata": {
    "collapsed": false
   },
   "outputs": [],
   "source": [
    "%autoreload 2"
   ]
  },
  {
   "cell_type": "code",
   "execution_count": null,
   "metadata": {
    "collapsed": false
   },
   "outputs": [],
   "source": [
    "xi = simulator.nonLinearDemand(simulator.sim())+[1]"
   ]
  },
  {
   "cell_type": "code",
   "execution_count": null,
   "metadata": {
    "collapsed": false
   },
   "outputs": [],
   "source": [
    "d=decisionSolver"
   ]
  },
  {
   "cell_type": "code",
   "execution_count": null,
   "metadata": {
    "collapsed": false
   },
   "outputs": [],
   "source": [
    "sum((d.w.dot(xi)-d.h)<0)"
   ]
  },
  {
   "cell_type": "code",
   "execution_count": null,
   "metadata": {
    "collapsed": false
   },
   "outputs": [],
   "source": [
    "xi=np.array(xi)"
   ]
  },
  {
   "cell_type": "code",
   "execution_count": null,
   "metadata": {
    "collapsed": false
   },
   "outputs": [],
   "source": [
    "print list((d.w.dot(xi)-d.h))"
   ]
  },
  {
   "cell_type": "code",
   "execution_count": null,
   "metadata": {
    "collapsed": false
   },
   "outputs": [],
   "source": [
    "import pandas as pd\n",
    "tt = pd.DataFrame(range(d.row))"
   ]
  },
  {
   "cell_type": "code",
   "execution_count": null,
   "metadata": {
    "collapsed": false
   },
   "outputs": [],
   "source": [
    "tt[d.w.dot(xi)-d.h<-1e-2]"
   ]
  },
  {
   "cell_type": "code",
   "execution_count": null,
   "metadata": {
    "collapsed": false
   },
   "outputs": [],
   "source": [
    "2*d.t*d.j"
   ]
  },
  {
   "cell_type": "code",
   "execution_count": null,
   "metadata": {
    "collapsed": false
   },
   "outputs": [],
   "source": [
    "xi[d.t*d.j+61*d.r:d.t*d.j+62*d.r]"
   ]
  },
  {
   "cell_type": "code",
   "execution_count": null,
   "metadata": {
    "collapsed": false
   },
   "outputs": [],
   "source": [
    "(722-2*d.t * d.j)/2"
   ]
  },
  {
   "cell_type": "code",
   "execution_count": null,
   "metadata": {
    "collapsed": false
   },
   "outputs": [],
   "source": [
    "(d.w.dot(xi)-d.h)[2321]"
   ]
  },
  {
   "cell_type": "code",
   "execution_count": null,
   "metadata": {
    "collapsed": false
   },
   "outputs": [],
   "source": [
    "d.w[2321,:].nonzero()"
   ]
  },
  {
   "cell_type": "code",
   "execution_count": null,
   "metadata": {
    "collapsed": false
   },
   "outputs": [],
   "source": [
    "8*d.t*d.j"
   ]
  },
  {
   "cell_type": "code",
   "execution_count": null,
   "metadata": {
    "collapsed": false
   },
   "outputs": [],
   "source": [
    "4*d.t*d.j"
   ]
  },
  {
   "cell_type": "code",
   "execution_count": null,
   "metadata": {
    "collapsed": false
   },
   "outputs": [],
   "source": [
    "m.T"
   ]
  },
  {
   "cell_type": "code",
   "execution_count": null,
   "metadata": {
    "collapsed": false
   },
   "outputs": [],
   "source": [
    "simulator.run(100)"
   ]
  },
  {
   "cell_type": "code",
   "execution_count": null,
   "metadata": {
    "collapsed": false
   },
   "outputs": [],
   "source": [
    "d=decisionSolver"
   ]
  },
  {
   "cell_type": "code",
   "execution_count": null,
   "metadata": {
    "collapsed": false
   },
   "outputs": [],
   "source": [
    "d.x[2,1,:,5]"
   ]
  },
  {
   "cell_type": "code",
   "execution_count": null,
   "metadata": {
    "collapsed": true
   },
   "outputs": [],
   "source": []
  }
 ],
 "metadata": {
  "anaconda-cloud": {},
  "kernelspec": {
   "display_name": "Python [Root]",
   "language": "python",
   "name": "Python [Root]"
  },
  "language_info": {
   "codemirror_mode": {
    "name": "ipython",
    "version": 2
   },
   "file_extension": ".py",
   "mimetype": "text/x-python",
   "name": "python",
   "nbconvert_exporter": "python",
   "pygments_lexer": "ipython2",
   "version": "2.7.12"
  }
 },
 "nbformat": 4,
 "nbformat_minor": 0
}
