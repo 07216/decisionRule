{
 "cells": [
  {
   "cell_type": "code",
   "execution_count": 1,
   "metadata": {
    "collapsed": true
   },
   "outputs": [],
   "source": [
    "\n",
    "\n",
    "import Input\n",
    "import sys\n",
    "import decisionRule\n",
    "import rALP\n",
    "import time\n",
    "import simulation\n",
    "import CustomizeDemand\n",
    "import gene\n",
    "import numpy as np\n",
    "#from guppy import hpy\n",
    "\n",
    "reductionALP=0\n",
    "firstCaseInReSolve=1\n",
    "secondCaseInReSolve=2\n",
    "'''\n",
    "choose,t,limt,d,T = int(sys.argv[1]),int(sys.argv[2]),int(sys.argv[3]),int(sys.argv[4]),int(sys.argv[5])\n",
    "demander = CustomizeDemand.CustomizeDemand(choose,t,limt,d,T)\n",
    "'''\n",
    "demander = CustomizeDemand.CustomizeDemand(1,5,5,1,1)"
   ]
  },
  {
   "cell_type": "code",
   "execution_count": 2,
   "metadata": {
    "collapsed": false
   },
   "outputs": [
    {
     "name": "stdout",
     "output_type": "stream",
     "text": [
      "Input End 0.0\n",
      "AddVar End 0.923942230838\n",
      "AddOpt End 1.51852616877\n",
      "AddCons End 76.2418586511\n",
      "Optimize a model with 150020 rows, 185720 columns and 604140 nonzeros\n",
      "Coefficient statistics:\n",
      "  Matrix range    [2e-01, 1e+02]\n",
      "  Objective range [1e-16, 5e+02]\n",
      "  Bounds range    [2e-01, 5e+01]\n",
      "  RHS range       [4e+02, 4e+02]\n",
      "\n",
      "Concurrent LP optimizer: dual simplex and barrier\n",
      "Showing barrier log only...\n",
      "\n",
      "Presolve removed 150020 rows and 185720 columns\n",
      "Presolve time: 0.31s\n",
      "Presolve: All rows and columns removed\n",
      "Iteration    Objective       Primal Inf.    Dual Inf.      Time\n",
      "       0    4.5266020e+05   0.000000e+00   0.000000e+00      0s\n",
      "\n",
      "Solved with dual simplex\n",
      "Solved in 0 iterations and 0.56 seconds\n",
      "Optimal objective  4.526602000e+05\n"
     ]
    }
   ],
   "source": [
    "\n",
    "decisionSolver = decisionRule.decisionRule()\n",
    "#   decisionSolver.echoInput()\n",
    "#decisionSolver.echoVal()\n",
    "decisionSolver.inputDemand(demander)\n",
    "start = time.clock()\n",
    "print \"Input End\",start\n",
    "decisionSolver.addVar()\n",
    "print \"AddVar End\",time.clock()\n",
    "decisionSolver.addOpt()\n",
    "print \"AddOpt End\",time.clock()\n",
    "decisionSolver.addConstr()\n",
    "end = time.clock()\n",
    "print \"AddCons End\",end\n",
    "#decisionSolver.writeMPS()\n",
    "decisionSolver.solve()   \n",
    "#decisionSolver.expectedLeftDemand()\n",
    "#decisionSolver.echoOpt()    \n",
    "\n"
   ]
  },
  {
   "cell_type": "code",
   "execution_count": 3,
   "metadata": {
    "collapsed": false
   },
   "outputs": [
    {
     "name": "stdout",
     "output_type": "stream",
     "text": [
      "[ 326925.]\n",
      "[ 328154.66]\n",
      "[ 325843.72]\n",
      "[ 340445.12]\n",
      "[ 350364.36]\n",
      "[ 357679.96]\n"
     ]
    }
   ],
   "source": [
    "simulator = simulation.simulation(decisionSolver,demander)\n",
    "\n",
    "#simulator.initX()\n",
    "#simulator.initXX()\n",
    "#simulator.echoXX()\n",
    "#simulator.bookLimLeft()\n",
    "print simulator.bookLimRun(np.round,1000)\n",
    "print simulator.bookLimRun(np.ceil,1000)\n",
    "print simulator.bookLimRun(np.floor,1000)\n",
    "print simulator.bookLimRun(simulator.atLeastOne,1000)\n",
    "print simulator.bookLimRun(simulator.atLeastTwo,1000)\n",
    "print simulator.bookLimRun(simulator.atLeastThree,1000)\n"
   ]
  },
  {
   "cell_type": "code",
   "execution_count": 4,
   "metadata": {
    "collapsed": false
   },
   "outputs": [
    {
     "name": "stdout",
     "output_type": "stream",
     "text": [
      "[[-40.52]\n",
      " [-36.67]\n",
      " [-39.68]\n",
      " [-39.79]\n",
      " [-36.54]\n",
      " [-38.85]\n",
      " [-41.27]\n",
      " [-39.17]\n",
      " [-36.42]\n",
      " [-38.9 ]]\n"
     ]
    }
   ],
   "source": [
    "c = decisionSolver.c.copy()\n",
    "for t in range(decisionSolver.t):\n",
    "    for j in range(decisionSolver.j):\n",
    "        for i in decisionSolver.refJ[j]:\n",
    "            for a in range(decisionSolver.a):\n",
    "                for b in range(decisionSolver.b):\n",
    "                    c[i] -= decisionSolver.x[t,j,a,b].x*decisionSolver.xi[t,j,a,b]\n",
    "print c"
   ]
  },
  {
   "cell_type": "code",
   "execution_count": null,
   "metadata": {
    "collapsed": false
   },
   "outputs": [],
   "source": [
    "decisionSolver.w[31801]"
   ]
  },
  {
   "cell_type": "code",
   "execution_count": null,
   "metadata": {
    "collapsed": false
   },
   "outputs": [],
   "source": []
  },
  {
   "cell_type": "code",
   "execution_count": null,
   "metadata": {
    "collapsed": true
   },
   "outputs": [],
   "source": []
  }
 ],
 "metadata": {
  "anaconda-cloud": {},
  "kernelspec": {
   "display_name": "Python [Root]",
   "language": "python",
   "name": "Python [Root]"
  },
  "language_info": {
   "codemirror_mode": {
    "name": "ipython",
    "version": 2
   },
   "file_extension": ".py",
   "mimetype": "text/x-python",
   "name": "python",
   "nbconvert_exporter": "python",
   "pygments_lexer": "ipython2",
   "version": "2.7.12"
  }
 },
 "nbformat": 4,
 "nbformat_minor": 0
}
