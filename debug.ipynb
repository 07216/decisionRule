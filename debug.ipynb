{
 "cells": [
  {
   "cell_type": "code",
   "execution_count": 5,
   "metadata": {
    "collapsed": false
   },
   "outputs": [],
   "source": [
    "\n",
    "\n",
    "import Input\n",
    "import sys\n",
    "import decisionRule\n",
    "import rALP\n",
    "import time\n",
    "import simulation\n",
    "import CustomizeDemand\n",
    "import gene\n",
    "import numpy as np\n",
    "#from guppy import hpy\n",
    "\n",
    "reductionALP=0\n",
    "firstCaseInReSolve=1\n",
    "secondCaseInReSolve=2\n",
    "'''\n",
    "choose,t,limt,d,T = int(sys.argv[1]),int(sys.argv[2]),int(sys.argv[3]),int(sys.argv[4]),int(sys.argv[5])\n",
    "demander = CustomizeDemand.CustomizeDemand(choose,t,limt,d,T)\n",
    "'''\n",
    "demander = CustomizeDemand.CustomizeDemand(0,5,5,1,40)"
   ]
  },
  {
   "cell_type": "code",
   "execution_count": 6,
   "metadata": {
    "collapsed": false
   },
   "outputs": [
    {
     "name": "stdout",
     "output_type": "stream",
     "text": [
      "Input End 283.827099\n",
      "AddVar End 284.155066\n",
      "AddOpt End 284.452531\n",
      "Warning for adding constraints: zero or small (< 1e-13) coefficients, ignored\n",
      "AddCons End 330.41677\n",
      "Optimize a model with 113616 rows, 138816 columns and 675673 nonzeros\n",
      "Coefficient statistics:\n",
      "  Matrix range     [4e-06, 3e+01]\n",
      "  Objective range  [1e-18, 4e+02]\n",
      "  Bounds range     [2e-01, 9e+00]\n",
      "  RHS range        [5e+01, 1e+02]\n",
      "\n",
      "Concurrent LP optimizer: dual simplex and barrier\n",
      "Showing barrier log only...\n",
      "\n",
      "Presolve removed 52218 rows and 130981 columns\n",
      "Presolve time: 0.18s\n",
      "Presolved: 61398 rows, 7835 columns, 188610 nonzeros\n",
      "\n",
      "Ordering time: 0.05s\n",
      "\n",
      "Barrier statistics:\n",
      " Free vars  : 1555\n",
      " AA' NZ     : 2.276e+06\n",
      " Factor NZ  : 2.492e+06 (roughly 50 MBytes of memory)\n",
      " Factor Ops : 1.320e+08 (less than 1 second per iteration)\n",
      " Threads    : 3\n",
      "\n",
      "                  Objective                Residual\n",
      "Iter       Primal          Dual         Primal    Dual     Compl     Time\n",
      "   0   1.37027507e+05  4.32550779e+06  1.92e+02 4.15e+02  4.82e+03     0s\n",
      "   1   9.54337250e+04  4.60034480e+06  1.68e+02 6.48e+02  3.84e+03     0s\n",
      "   2   4.97244497e+04  5.78452311e+06  9.74e+01 5.67e+02  2.05e+03     0s\n",
      "   3   1.91526393e+04  6.58506793e+06  4.03e+01 1.87e+02  8.68e+02     0s\n",
      "   4   4.84896030e+03  5.77385995e+06  7.13e+00 1.91e+01  1.96e+02     0s\n",
      "   5   2.73832442e+03  2.72756086e+06  1.63e+00 2.51e+00  5.31e+01     1s\n",
      "   6   2.05838836e+03  6.09124563e+05  2.42e-01 1.86e-01  9.22e+00     1s\n",
      "   7   2.16871545e+03  1.49585620e+05  3.21e-05 3.81e-02  2.11e+00     1s\n",
      "   8   2.40613394e+03  1.11300416e+05  2.68e-05 2.63e-02  1.56e+00     1s\n",
      "   9   2.98466333e+03  9.04312326e+04  2.07e-05 2.06e-02  1.25e+00     1s\n",
      "  10   3.41316802e+03  7.35577426e+04  1.88e-05 1.60e-02  1.00e+00     1s\n",
      "  11   5.11171777e+03  6.08295706e+04  1.31e-05 1.24e-02  7.97e-01     1s\n",
      "  12   6.44060892e+03  5.47776399e+04  1.09e-05 1.07e-02  6.92e-01     1s\n",
      "  13   7.18628626e+03  4.85009153e+04  9.95e-06 8.96e-03  5.91e-01     1s\n",
      "  14   7.83812418e+03  4.63012570e+04  9.35e-06 8.33e-03  5.50e-01     1s\n",
      "  15   8.16095495e+03  4.44761989e+04  9.02e-06 8.02e-03  5.20e-01     1s\n",
      "  16   8.61898429e+03  4.29183354e+04  8.46e-06 7.85e-03  4.91e-01     1s\n",
      "  17   8.87025744e+03  4.09910202e+04  8.24e-06 7.59e-03  4.60e-01     1s\n",
      "  18   9.27723402e+03  4.03661827e+04  7.86e-06 7.01e-03  4.45e-01     1s\n",
      "  19   1.00002896e+04  3.82834628e+04  7.02e-06 6.40e-03  4.05e-01     1s\n",
      "  20   1.05423613e+04  3.63149580e+04  6.44e-06 5.94e-03  3.69e-01     1s\n",
      "  21   1.07980117e+04  3.48522555e+04  6.15e-06 5.55e-03  3.44e-01     1s\n",
      "  22   1.12039820e+04  3.30767776e+04  5.71e-06 5.05e-03  3.13e-01     1s\n",
      "  23   1.15575924e+04  3.20792513e+04  5.30e-06 4.44e-03  2.93e-01     1s\n",
      "  24   1.20283140e+04  3.01358829e+04  4.71e-06 3.93e-03  2.59e-01     1s\n",
      "  25   1.23871288e+04  2.89485085e+04  4.29e-06 3.62e-03  2.37e-01     1s\n",
      "  26   1.26140108e+04  2.75861210e+04  4.08e-06 3.23e-03  2.14e-01     1s\n",
      "\n",
      "Barrier performed 26 iterations in 1.08 seconds\n",
      "Barrier solve interrupted - model solved by another algorithm\n",
      "\n",
      "\n",
      "Solved with dual simplex\n",
      "Solved in 7226 iterations and 1.08 seconds\n",
      "Optimal objective  1.932893383e+04\n"
     ]
    }
   ],
   "source": [
    "\n",
    "decisionSolver = decisionRule.decisionRule()\n",
    "#   decisionSolver.echoInput()\n",
    "#decisionSolver.echoVal()\n",
    "decisionSolver.inputDemand(demander)\n",
    "start = time.clock()\n",
    "print \"Input End\",start\n",
    "decisionSolver.addVar()\n",
    "print \"AddVar End\",time.clock()\n",
    "decisionSolver.addOpt()\n",
    "print \"AddOpt End\",time.clock()\n",
    "decisionSolver.addConstr()\n",
    "end = time.clock()\n",
    "print \"AddCons End\",end\n",
    "#decisionSolver.writeMPS()\n",
    "decisionSolver.solve()   \n",
    "#decisionSolver.expectedLeftDemand()\n",
    "#decisionSolver.echoOpt()    \n",
    "\n"
   ]
  },
  {
   "cell_type": "code",
   "execution_count": 12,
   "metadata": {
    "collapsed": false,
    "scrolled": true
   },
   "outputs": [
    {
     "name": "stdout",
     "output_type": "stream",
     "text": [
      "[ 19032.4]\n",
      "[ 19539.6]\n",
      "[ 19225.6]\n",
      "[ 19431.]\n",
      "[ 19181.5]\n",
      "[ 18214.3]\n"
     ]
    }
   ],
   "source": [
    "simulator = simulation.simulation(decisionSolver,demander)\n",
    "\n",
    "#simulator.initX()\n",
    "#simulator.initXX()\n",
    "#simulator.echoXX()\n",
    "#simulator.bookLimLeft()\n",
    "print simulator.bookLimRun(np.round,10)\n",
    "print simulator.bookLimRun(np.ceil,10)\n",
    "print simulator.bookLimRun(np.floor,10)\n",
    "print simulator.bookLimRun(simulator.atLeastOne,10)\n",
    "print simulator.bookLimRun(simulator.atLeastTwo,10)\n",
    "print simulator.bookLimRun(simulator.atLeastThree,10)\n"
   ]
  },
  {
   "cell_type": "code",
   "execution_count": null,
   "metadata": {
    "collapsed": false
   },
   "outputs": [],
   "source": [
    "c = decisionSolver.c.copy()\n",
    "for t in range(decisionSolver.t):\n",
    "    for j in range(decisionSolver.j):\n",
    "        for i in decisionSolver.refJ[j]:\n",
    "            for a in range(decisionSolver.a):\n",
    "                for b in range(decisionSolver.b):\n",
    "                    c[i] -= decisionSolver.x[t,j,a,b].x*decisionSolver.xi[t,j,a,b]\n",
    "print c"
   ]
  },
  {
   "cell_type": "code",
   "execution_count": null,
   "metadata": {
    "collapsed": false
   },
   "outputs": [],
   "source": [
    "pd.DataFrame(decisionSolver.w[decisionSolver.t*decisionSolver.j*8+1].todense())"
   ]
  },
  {
   "cell_type": "code",
   "execution_count": null,
   "metadata": {
    "collapsed": false
   },
   "outputs": [],
   "source": [
    "d=decisionSolver"
   ]
  },
  {
   "cell_type": "code",
   "execution_count": null,
   "metadata": {
    "collapsed": false
   },
   "outputs": [],
   "source": [
    "m=demander"
   ]
  },
  {
   "cell_type": "code",
   "execution_count": null,
   "metadata": {
    "collapsed": false
   },
   "outputs": [],
   "source": [
    "obj = 0\n",
    "\n",
    "for t in range(0,self.t):\n",
    "    for j in range(0,self.j):\n",
    "        for a in range(self.a):\n",
    "            for b in range(self.b):\n",
    "                obj += self.v[j,0] * self.x[t,j,a,b].x * self.xi[t,j,a,b]\n",
    "                    "
   ]
  },
  {
   "cell_type": "code",
   "execution_count": null,
   "metadata": {
    "collapsed": false
   },
   "outputs": [],
   "source": [
    "d = decisionSolver"
   ]
  },
  {
   "cell_type": "code",
   "execution_count": null,
   "metadata": {
    "collapsed": false
   },
   "outputs": [],
   "source": [
    "m = demander"
   ]
  },
  {
   "cell_type": "code",
   "execution_count": null,
   "metadata": {
    "collapsed": false
   },
   "outputs": [],
   "source": [
    "x=np.zeros((d.t,d.j,d.a,d.b))\n",
    "for t in range(d.t):\n",
    "    for j in range(d.j):\n",
    "        for a in range(d.a):\n",
    "            for b in range(d.b):\n",
    "                x[t,j,a,b] = d.x[t,j,a,b].x"
   ]
  },
  {
   "cell_type": "code",
   "execution_count": null,
   "metadata": {
    "collapsed": false
   },
   "outputs": [],
   "source": [
    "x[2,2,:,1]"
   ]
  },
  {
   "cell_type": "code",
   "execution_count": null,
   "metadata": {
    "collapsed": false
   },
   "outputs": [],
   "source": [
    "x[2,4,:,1]"
   ]
  },
  {
   "cell_type": "code",
   "execution_count": null,
   "metadata": {
    "collapsed": false
   },
   "outputs": [],
   "source": [
    "%autoreload 2"
   ]
  },
  {
   "cell_type": "code",
   "execution_count": null,
   "metadata": {
    "collapsed": false
   },
   "outputs": [],
   "source": [
    "xi = simulator.nonLinearDemand(simulator.sim())+[1]"
   ]
  },
  {
   "cell_type": "code",
   "execution_count": null,
   "metadata": {
    "collapsed": false
   },
   "outputs": [],
   "source": [
    "d=decisionSolver"
   ]
  },
  {
   "cell_type": "code",
   "execution_count": null,
   "metadata": {
    "collapsed": false
   },
   "outputs": [],
   "source": [
    "sum((d.w.dot(xi)-d.h)<0)"
   ]
  },
  {
   "cell_type": "code",
   "execution_count": null,
   "metadata": {
    "collapsed": false
   },
   "outputs": [],
   "source": [
    "xi=np.array(xi)"
   ]
  },
  {
   "cell_type": "code",
   "execution_count": null,
   "metadata": {
    "collapsed": false
   },
   "outputs": [],
   "source": [
    "print list((d.w.dot(xi)-d.h))"
   ]
  },
  {
   "cell_type": "code",
   "execution_count": null,
   "metadata": {
    "collapsed": false
   },
   "outputs": [],
   "source": [
    "import pandas as pd\n",
    "tt = pd.DataFrame(range(d.row))"
   ]
  },
  {
   "cell_type": "code",
   "execution_count": null,
   "metadata": {
    "collapsed": false
   },
   "outputs": [],
   "source": [
    "tt[d.w.dot(xi)-d.h<-1e-2]"
   ]
  },
  {
   "cell_type": "code",
   "execution_count": null,
   "metadata": {
    "collapsed": false
   },
   "outputs": [],
   "source": [
    "2*d.t*d.j"
   ]
  },
  {
   "cell_type": "code",
   "execution_count": null,
   "metadata": {
    "collapsed": false
   },
   "outputs": [],
   "source": [
    "xi[d.t*d.j+61*d.r:d.t*d.j+62*d.r]"
   ]
  },
  {
   "cell_type": "code",
   "execution_count": null,
   "metadata": {
    "collapsed": false
   },
   "outputs": [],
   "source": [
    "(722-2*d.t * d.j)/2"
   ]
  },
  {
   "cell_type": "code",
   "execution_count": null,
   "metadata": {
    "collapsed": false
   },
   "outputs": [],
   "source": [
    "(d.w.dot(xi)-d.h)[2321]"
   ]
  },
  {
   "cell_type": "code",
   "execution_count": null,
   "metadata": {
    "collapsed": false
   },
   "outputs": [],
   "source": [
    "d.w[2321,:].nonzero()"
   ]
  },
  {
   "cell_type": "code",
   "execution_count": null,
   "metadata": {
    "collapsed": false
   },
   "outputs": [],
   "source": [
    "8*d.t*d.j"
   ]
  },
  {
   "cell_type": "code",
   "execution_count": null,
   "metadata": {
    "collapsed": false
   },
   "outputs": [],
   "source": [
    "4*d.t*d.j"
   ]
  },
  {
   "cell_type": "code",
   "execution_count": null,
   "metadata": {
    "collapsed": false
   },
   "outputs": [],
   "source": [
    "m.T"
   ]
  },
  {
   "cell_type": "code",
   "execution_count": null,
   "metadata": {
    "collapsed": false
   },
   "outputs": [],
   "source": [
    "simulator.run(100)"
   ]
  },
  {
   "cell_type": "code",
   "execution_count": null,
   "metadata": {
    "collapsed": false
   },
   "outputs": [],
   "source": [
    "d=decisionSolver"
   ]
  },
  {
   "cell_type": "code",
   "execution_count": null,
   "metadata": {
    "collapsed": false
   },
   "outputs": [],
   "source": [
    "d.x[2,1,:,5]"
   ]
  },
  {
   "cell_type": "code",
   "execution_count": null,
   "metadata": {
    "collapsed": true
   },
   "outputs": [],
   "source": []
  }
 ],
 "metadata": {
  "anaconda-cloud": {},
  "kernelspec": {
   "display_name": "Python [default]",
   "language": "python",
   "name": "python2"
  },
  "language_info": {
   "codemirror_mode": {
    "name": "ipython",
    "version": 2
   },
   "file_extension": ".py",
   "mimetype": "text/x-python",
   "name": "python",
   "nbconvert_exporter": "python",
   "pygments_lexer": "ipython2",
   "version": "2.7.12"
  }
 },
 "nbformat": 4,
 "nbformat_minor": 0
}
