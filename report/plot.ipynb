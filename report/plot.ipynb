{
 "cells": [
  {
   "cell_type": "code",
   "execution_count": 4,
   "metadata": {
    "collapsed": true
   },
   "outputs": [],
   "source": [
    "from matplotlib import *"
   ]
  },
  {
   "cell_type": "code",
   "execution_count": 2,
   "metadata": {
    "collapsed": true
   },
   "outputs": [],
   "source": [
    "x=range(10)"
   ]
  },
  {
   "cell_type": "code",
   "execution_count": 22,
   "metadata": {
    "collapsed": true
   },
   "outputs": [],
   "source": [
    "y=range(7)+[6]*3"
   ]
  },
  {
   "cell_type": "code",
   "execution_count": 1,
   "metadata": {
    "collapsed": true
   },
   "outputs": [],
   "source": [
    "import pylab as pl"
   ]
  },
  {
   "cell_type": "code",
   "execution_count": 23,
   "metadata": {
    "collapsed": false
   },
   "outputs": [],
   "source": [
    "pl.plot(x,y)\n",
    "pl.ylim(0,10)\n",
    "pl.show()"
   ]
  },
  {
   "cell_type": "code",
   "execution_count": 25,
   "metadata": {
    "collapsed": false
   },
   "outputs": [],
   "source": [
    "y=range(6)+[5.5]+[6]*3\n",
    "pl.plot(x,y)\n",
    "pl.ylim(0,10)\n",
    "pl.show()"
   ]
  },
  {
   "cell_type": "code",
   "execution_count": 86,
   "metadata": {
    "collapsed": false
   },
   "outputs": [],
   "source": [
    "x=range(10)\n",
    "y=range(0,6)+[6]*4\n",
    "plot1 = pl.plot(x,y,'-')\n",
    "y=range(0,8)+[8]*2\n",
    "plot2 = pl.plot(x,y,'--')\n",
    "x=[0]+[2]+range(2,10)\n",
    "y=[0.6]+[2]+range(2,8)+[7.5]*2\n",
    "plot3 = pl.plot(x,y,'-')\n",
    "pl.ylim(0,10)\n",
    "\n",
    "pl.annotate(r'X(\\xi^{t-1})+\\tilde{X}(\\xi_t)', xy=(8., 7.4), xycoords='data',\n",
    "            xytext=(-40, -30), textcoords='offset points',\n",
    "            arrowprops=dict(arrowstyle=\"->\",\n",
    "                            connectionstyle=\"arc,angleA=0,armA=30,rad=10\"),\n",
    "            )\n",
    "\n",
    "pl.annotate(r'\\tilde{X}(\\xi_t)', xy=(8., 6), xycoords='data',\n",
    "            xytext=(-40, -30), textcoords='offset points',\n",
    "            arrowprops=dict(arrowstyle=\"->\",\n",
    "                            connectionstyle=\"arc,angleA=0,armA=30,rad=10\"),\n",
    "            )\n",
    "\n",
    "\n",
    "pl.annotate(r'\\tilde{X}(\\xi^{t-1},\\xi_t)', xy=(8., 8), xycoords='data',\n",
    "            xytext=(-40, 30), textcoords='offset points',\n",
    "            arrowprops=dict(arrowstyle=\"->\",\n",
    "                            connectionstyle=\"arc,angleA=0,armA=30,rad=10\"),\n",
    "            )\n",
    "\n",
    "pl.annotate(r'low bound', xy=(2., 1), xycoords='data',\n",
    "            xytext=(40, 30), textcoords='offset points',\n",
    "            arrowprops=dict(arrowstyle=\"->\",\n",
    "                            connectionstyle=\"arc,angleA=0,armA=30,rad=10\"),\n",
    "            )\n",
    "x = [2]*3\n",
    "y = range(3)\n",
    "pl.plot(x,y,'-.')\n",
    "pl.show()"
   ]
  },
  {
   "cell_type": "code",
   "execution_count": 35,
   "metadata": {
    "collapsed": false
   },
   "outputs": [],
   "source": [
    "import numpy as np"
   ]
  },
  {
   "cell_type": "code",
   "execution_count": 40,
   "metadata": {
    "collapsed": false,
    "scrolled": false
   },
   "outputs": [
    {
     "data": {
      "text/plain": [
       "[0.5, 1.25, 2.0]"
      ]
     },
     "execution_count": 40,
     "metadata": {},
     "output_type": "execute_result"
    }
   ],
   "source": [
    "list(np.linspace(0.5,2,3))"
   ]
  },
  {
   "cell_type": "code",
   "execution_count": 76,
   "metadata": {
    "collapsed": true
   },
   "outputs": [],
   "source": [
    "from matplotlib import rc\n",
    "rc('font',**{'family':'sans-serif','sans-serif':['Helvetica']})\n",
    "## for Palatino and other serif fonts use:\n",
    "#rc('font',**{'family':'serif','serif':['Palatino']})\n",
    "rc('text', usetex=True)"
   ]
  },
  {
   "cell_type": "code",
   "execution_count": 11,
   "metadata": {
    "collapsed": true
   },
   "outputs": [],
   "source": [
    "x = range(7)\n",
    "y = [1] + [0.5] + [0]*5\n",
    "pl.plot(x,y)\n",
    "pl.show()"
   ]
  },
  {
   "cell_type": "code",
   "execution_count": 12,
   "metadata": {
    "collapsed": true
   },
   "outputs": [],
   "source": [
    "x = range(7)\n",
    "y = [0] + [0.5] + [1] + [0.5] + [0]*3\n",
    "pl.plot(x,y)\n",
    "pl.show()"
   ]
  },
  {
   "cell_type": "code",
   "execution_count": 14,
   "metadata": {
    "collapsed": false
   },
   "outputs": [],
   "source": [
    "import numpy as np\n",
    "points = np.array([[0, 0], [0, 10], [10, 0], [10, 10]])"
   ]
  },
  {
   "cell_type": "code",
   "execution_count": 28,
   "metadata": {
    "collapsed": true
   },
   "outputs": [],
   "source": [
    "from scipy.spatial import Delaunay\n",
    "from mpl_toolkits.mplot3d import Axes3D\n",
    "from matplotlib import cm\n",
    "import matplotlib.pyplot as plt\n",
    "import numpy as np\n"
   ]
  },
  {
   "cell_type": "code",
   "execution_count": 30,
   "metadata": {
    "collapsed": false
   },
   "outputs": [],
   "source": [
    "\n",
    "from mpl_toolkits.mplot3d import Axes3D\n",
    "from matplotlib import cm\n",
    "import matplotlib.pyplot as plt\n",
    "import numpy as np\n",
    "\n",
    "from matplotlib.tri import Triangulation\n",
    "from mpl_toolkits.mplot3d.art3d import Poly3DCollection\n",
    "\n",
    "n_angles = 36\n",
    "n_radii = 8\n",
    "\n",
    "# An array of radii\n",
    "# Does not include radius r=0, this is to eliminate duplicate points\n",
    "radii = np.linspace(0.125, 1.0, n_radii)\n",
    "\n",
    "# An array of angles\n",
    "angles = np.linspace(0, 2*np.pi, n_angles, endpoint=False)\n",
    "\n",
    "# Repeat all angles for each radius\n",
    "angles = np.repeat(angles[...,np.newaxis], n_radii, axis=1)\n",
    "\n",
    "# Convert polar (radii, angles) coords to cartesian (x, y) coords\n",
    "# (0, 0) is added here. There are no duplicate points in the (x, y) plane\n",
    "x = np.append(0, (radii*np.cos(angles)).flatten())\n",
    "y = np.append(0, (radii*np.sin(angles)).flatten())\n",
    "\n",
    "x,y = np.meshgrid(np.linspace(0,10,3),np.linspace(0,10,3))\n",
    "\n",
    "# Pringle surface\n",
    "z = x**2+y**2\n",
    "\n",
    "x = x.flatten()\n",
    "y = y.flatten()\n",
    "z = z.flatten()\n",
    "\n",
    "tri = Triangulation(x, y)  # NOTE: This assumes that there is a nice projection of the surface into the x/y-plane!\n",
    "triangle_vertices = np.array([np.array([[x[T[0]], y[T[0]], z[T[0]]],\n",
    "                                        [x[T[1]], y[T[1]], z[T[1]]],\n",
    "                                        [x[T[2]], y[T[2]], z[T[2]]]]) for T in tri.triangles])\n",
    "midpoints = np.average(triangle_vertices, axis=1)\n",
    "\n",
    "def find_color_for_point(pt):\n",
    "    x, y, z = pt\n",
    "    col = [(y+1)/2, (1-y)/2, 0]\n",
    "    return col\n",
    "\n",
    "#facecolors = [1 for pt in midpoints]  # smooth gradient\n",
    "facecolors = [np.random.random(3) for pt in midpoints]  # random colors\n",
    "\n",
    "coll = Poly3DCollection(triangle_vertices, facecolors='red', edgecolors='blue')\n",
    "\n",
    "n_angles = 36\n",
    "n_radii = 8\n",
    "\n",
    "# An array of radii\n",
    "# Does not include radius r=0, this is to eliminate duplicate points\n",
    "radii = np.linspace(0.125, 1.0, n_radii)\n",
    "\n",
    "# An array of angles\n",
    "angles = np.linspace(0, 2*np.pi, n_angles, endpoint=False)\n",
    "\n",
    "# Repeat all angles for each radius\n",
    "angles = np.repeat(angles[...,np.newaxis], n_radii, axis=1)\n",
    "\n",
    "# Convert polar (radii, angles) coords to cartesian (x, y) coords\n",
    "# (0, 0) is added here. There are no duplicate points in the (x, y) plane\n",
    "x = np.append(0, (radii*np.cos(angles)).flatten())\n",
    "y = np.append(0, (radii*np.sin(angles)).flatten())\n",
    "\n",
    "x,y = np.meshgrid(np.linspace(0,10,10),np.linspace(0,10,10))\n",
    "\n",
    "# Pringle surface\n",
    "#z = x**2+y**2\n",
    "z = x**2+y**2\n",
    "\n",
    "x = x.flatten()\n",
    "y = y.flatten()\n",
    "z = z.flatten()\n",
    "\n",
    "tri = Triangulation(x, y)  # NOTE: This assumes that there is a nice projection of the surface into the x/y-plane!\n",
    "triangle_vertices = np.array([np.array([[x[T[0]], y[T[0]], z[T[0]]],\n",
    "                                        [x[T[1]], y[T[1]], z[T[1]]],\n",
    "                                        [x[T[2]], y[T[2]], z[T[2]]]]) for T in tri.triangles])\n",
    "midpoints = np.average(triangle_vertices, axis=1)\n",
    "\n",
    "def find_color_for_point(pt):\n",
    "    x, y, z = pt\n",
    "    col = [(y+1)/2, (1-y)/2, 0]\n",
    "    return col\n",
    "\n",
    "#facecolors = [1 for pt in midpoints]  # smooth gradient\n",
    "facecolors = [np.random.random(3) for pt in midpoints]  # random colors\n",
    "\n",
    "collSec = Poly3DCollection(triangle_vertices, cmap=cm.jet)\n",
    "\n",
    "\n",
    "\n",
    "\n",
    "fig = plt.figure()\n",
    "ax = fig.gca(projection='3d')\n",
    "ax.add_collection(collSec)\n",
    "ax.set_xlim(0, 10)\n",
    "ax.set_ylim(0, 10)\n",
    "ax.set_zlim(0, 100)\n",
    "ax.elev = 50\n",
    "\n",
    "\n",
    "plt.show()"
   ]
  },
  {
   "cell_type": "code",
   "execution_count": 34,
   "metadata": {
    "collapsed": false
   },
   "outputs": [],
   "source": [
    "x,y=np.meshgrid(np.linspace(0,10,20),np.linspace(0,10,20))\n",
    "z = np.zeros(np.shape(x))"
   ]
  },
  {
   "cell_type": "code",
   "execution_count": 45,
   "metadata": {
    "collapsed": false
   },
   "outputs": [
    {
     "data": {
      "text/plain": [
       "array([  0.00000000e+00,   1.25000000e-01,   2.50000000e-01,\n",
       "         3.75000000e-01,   5.00000000e-01,   6.25000000e-01,\n",
       "         7.50000000e-01,   8.75000000e-01,   1.00000000e+00,\n",
       "         1.23100969e-01,   2.46201938e-01,   3.69302907e-01,\n",
       "         4.92403877e-01,   6.15504846e-01,   7.38605815e-01,\n",
       "         8.61706784e-01,   9.84807753e-01,   1.17461578e-01,\n",
       "         2.34923155e-01,   3.52384733e-01,   4.69846310e-01,\n",
       "         5.87307888e-01,   7.04769466e-01,   8.22231043e-01,\n",
       "         9.39692621e-01,   1.08253175e-01,   2.16506351e-01,\n",
       "         3.24759526e-01,   4.33012702e-01,   5.41265877e-01,\n",
       "         6.49519053e-01,   7.57772228e-01,   8.66025404e-01,\n",
       "         9.57555554e-02,   1.91511111e-01,   2.87266666e-01,\n",
       "         3.83022222e-01,   4.78777777e-01,   5.74533332e-01,\n",
       "         6.70288888e-01,   7.66044443e-01,   8.03484512e-02,\n",
       "         1.60696902e-01,   2.41045354e-01,   3.21393805e-01,\n",
       "         4.01742256e-01,   4.82090707e-01,   5.62439158e-01,\n",
       "         6.42787610e-01,   6.25000000e-02,   1.25000000e-01,\n",
       "         1.87500000e-01,   2.50000000e-01,   3.12500000e-01,\n",
       "         3.75000000e-01,   4.37500000e-01,   5.00000000e-01,\n",
       "         4.27525179e-02,   8.55050358e-02,   1.28257554e-01,\n",
       "         1.71010072e-01,   2.13762590e-01,   2.56515107e-01,\n",
       "         2.99267625e-01,   3.42020143e-01,   2.17060222e-02,\n",
       "         4.34120444e-02,   6.51180666e-02,   8.68240888e-02,\n",
       "         1.08530111e-01,   1.30236133e-01,   1.51942155e-01,\n",
       "         1.73648178e-01,   7.65404249e-18,   1.53080850e-17,\n",
       "         2.29621275e-17,   3.06161700e-17,   3.82702125e-17,\n",
       "         4.59242550e-17,   5.35782975e-17,   6.12323400e-17,\n",
       "        -2.17060222e-02,  -4.34120444e-02,  -6.51180666e-02,\n",
       "        -8.68240888e-02,  -1.08530111e-01,  -1.30236133e-01,\n",
       "        -1.51942155e-01,  -1.73648178e-01,  -4.27525179e-02,\n",
       "        -8.55050358e-02,  -1.28257554e-01,  -1.71010072e-01,\n",
       "        -2.13762590e-01,  -2.56515107e-01,  -2.99267625e-01,\n",
       "        -3.42020143e-01,  -6.25000000e-02,  -1.25000000e-01,\n",
       "        -1.87500000e-01,  -2.50000000e-01,  -3.12500000e-01,\n",
       "        -3.75000000e-01,  -4.37500000e-01,  -5.00000000e-01,\n",
       "        -8.03484512e-02,  -1.60696902e-01,  -2.41045354e-01,\n",
       "        -3.21393805e-01,  -4.01742256e-01,  -4.82090707e-01,\n",
       "        -5.62439158e-01,  -6.42787610e-01,  -9.57555554e-02,\n",
       "        -1.91511111e-01,  -2.87266666e-01,  -3.83022222e-01,\n",
       "        -4.78777777e-01,  -5.74533332e-01,  -6.70288888e-01,\n",
       "        -7.66044443e-01,  -1.08253175e-01,  -2.16506351e-01,\n",
       "        -3.24759526e-01,  -4.33012702e-01,  -5.41265877e-01,\n",
       "        -6.49519053e-01,  -7.57772228e-01,  -8.66025404e-01,\n",
       "        -1.17461578e-01,  -2.34923155e-01,  -3.52384733e-01,\n",
       "        -4.69846310e-01,  -5.87307888e-01,  -7.04769466e-01,\n",
       "        -8.22231043e-01,  -9.39692621e-01,  -1.23100969e-01,\n",
       "        -2.46201938e-01,  -3.69302907e-01,  -4.92403877e-01,\n",
       "        -6.15504846e-01,  -7.38605815e-01,  -8.61706784e-01,\n",
       "        -9.84807753e-01,  -1.25000000e-01,  -2.50000000e-01,\n",
       "        -3.75000000e-01,  -5.00000000e-01,  -6.25000000e-01,\n",
       "        -7.50000000e-01,  -8.75000000e-01,  -1.00000000e+00,\n",
       "        -1.23100969e-01,  -2.46201938e-01,  -3.69302907e-01,\n",
       "        -4.92403877e-01,  -6.15504846e-01,  -7.38605815e-01,\n",
       "        -8.61706784e-01,  -9.84807753e-01,  -1.17461578e-01,\n",
       "        -2.34923155e-01,  -3.52384733e-01,  -4.69846310e-01,\n",
       "        -5.87307888e-01,  -7.04769466e-01,  -8.22231043e-01,\n",
       "        -9.39692621e-01,  -1.08253175e-01,  -2.16506351e-01,\n",
       "        -3.24759526e-01,  -4.33012702e-01,  -5.41265877e-01,\n",
       "        -6.49519053e-01,  -7.57772228e-01,  -8.66025404e-01,\n",
       "        -9.57555554e-02,  -1.91511111e-01,  -2.87266666e-01,\n",
       "        -3.83022222e-01,  -4.78777777e-01,  -5.74533332e-01,\n",
       "        -6.70288888e-01,  -7.66044443e-01,  -8.03484512e-02,\n",
       "        -1.60696902e-01,  -2.41045354e-01,  -3.21393805e-01,\n",
       "        -4.01742256e-01,  -4.82090707e-01,  -5.62439158e-01,\n",
       "        -6.42787610e-01,  -6.25000000e-02,  -1.25000000e-01,\n",
       "        -1.87500000e-01,  -2.50000000e-01,  -3.12500000e-01,\n",
       "        -3.75000000e-01,  -4.37500000e-01,  -5.00000000e-01,\n",
       "        -4.27525179e-02,  -8.55050358e-02,  -1.28257554e-01,\n",
       "        -1.71010072e-01,  -2.13762590e-01,  -2.56515107e-01,\n",
       "        -2.99267625e-01,  -3.42020143e-01,  -2.17060222e-02,\n",
       "        -4.34120444e-02,  -6.51180666e-02,  -8.68240888e-02,\n",
       "        -1.08530111e-01,  -1.30236133e-01,  -1.51942155e-01,\n",
       "        -1.73648178e-01,  -2.29621275e-17,  -4.59242550e-17,\n",
       "        -6.88863825e-17,  -9.18485099e-17,  -1.14810637e-16,\n",
       "        -1.37772765e-16,  -1.60734892e-16,  -1.83697020e-16,\n",
       "         2.17060222e-02,   4.34120444e-02,   6.51180666e-02,\n",
       "         8.68240888e-02,   1.08530111e-01,   1.30236133e-01,\n",
       "         1.51942155e-01,   1.73648178e-01,   4.27525179e-02,\n",
       "         8.55050358e-02,   1.28257554e-01,   1.71010072e-01,\n",
       "         2.13762590e-01,   2.56515107e-01,   2.99267625e-01,\n",
       "         3.42020143e-01,   6.25000000e-02,   1.25000000e-01,\n",
       "         1.87500000e-01,   2.50000000e-01,   3.12500000e-01,\n",
       "         3.75000000e-01,   4.37500000e-01,   5.00000000e-01,\n",
       "         8.03484512e-02,   1.60696902e-01,   2.41045354e-01,\n",
       "         3.21393805e-01,   4.01742256e-01,   4.82090707e-01,\n",
       "         5.62439158e-01,   6.42787610e-01,   9.57555554e-02,\n",
       "         1.91511111e-01,   2.87266666e-01,   3.83022222e-01,\n",
       "         4.78777777e-01,   5.74533332e-01,   6.70288888e-01,\n",
       "         7.66044443e-01,   1.08253175e-01,   2.16506351e-01,\n",
       "         3.24759526e-01,   4.33012702e-01,   5.41265877e-01,\n",
       "         6.49519053e-01,   7.57772228e-01,   8.66025404e-01,\n",
       "         1.17461578e-01,   2.34923155e-01,   3.52384733e-01,\n",
       "         4.69846310e-01,   5.87307888e-01,   7.04769466e-01,\n",
       "         8.22231043e-01,   9.39692621e-01,   1.23100969e-01,\n",
       "         2.46201938e-01,   3.69302907e-01,   4.92403877e-01,\n",
       "         6.15504846e-01,   7.38605815e-01,   8.61706784e-01,\n",
       "         9.84807753e-01])"
      ]
     },
     "execution_count": 45,
     "metadata": {},
     "output_type": "execute_result"
    }
   ],
   "source": [
    "x"
   ]
  },
  {
   "cell_type": "code",
   "execution_count": null,
   "metadata": {
    "collapsed": true
   },
   "outputs": [],
   "source": []
  }
 ],
 "metadata": {
  "kernelspec": {
   "display_name": "Python 2",
   "language": "python",
   "name": "python2"
  },
  "language_info": {
   "codemirror_mode": {
    "name": "ipython",
    "version": 2
   },
   "file_extension": ".py",
   "mimetype": "text/x-python",
   "name": "python",
   "nbconvert_exporter": "python",
   "pygments_lexer": "ipython2",
   "version": "2.7.12"
  }
 },
 "nbformat": 4,
 "nbformat_minor": 0
}
