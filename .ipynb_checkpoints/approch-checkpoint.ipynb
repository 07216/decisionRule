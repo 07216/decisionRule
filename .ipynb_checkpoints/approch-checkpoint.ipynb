{
 "cells": [
  {
   "cell_type": "code",
   "execution_count": 4,
   "metadata": {
    "collapsed": true
   },
   "outputs": [],
   "source": [
    "import Input\n",
    "import decisionRule\n",
    "import rALP\n",
    "import time\n",
    "import simulation"
   ]
  },
  {
   "cell_type": "code",
   "execution_count": 5,
   "metadata": {
    "collapsed": false
   },
   "outputs": [],
   "source": [
    "reader = Input.Input()\n",
    "reader.readIn('rm_200_4_1.0_4.0.txt')\n",
    "reader.product()\n",
    "reader.leg()\n",
    "reader.construct()"
   ]
  },
  {
   "cell_type": "code",
   "execution_count": 7,
   "metadata": {
    "collapsed": false
   },
   "outputs": [
    {
     "name": "stdout",
     "output_type": "stream",
     "text": [
      "Optimize a model with 298096 rows, 688096 columns and 911312 nonzeros\n",
      "Coefficient statistics:\n",
      "  Matrix range    [1e+00, 6e+00]\n",
      "  Objective range [2e-05, 8e+00]\n",
      "  Bounds range    [0e+00, 0e+00]\n",
      "  RHS range       [2e+01, 5e+01]\n",
      "\n",
      "Concurrent LP optimizer: dual simplex and barrier\n",
      "Showing barrier log only...\n",
      "\n",
      "Presolve removed 298004 rows and 687914 columns\n",
      "Presolve time: 0.78s\n",
      "Presolved: 92 rows, 182 columns, 360 nonzeros\n",
      "\n",
      "Ordering time: 0.00s\n",
      "\n",
      "Barrier statistics:\n",
      " AA' NZ     : 1.780e+02\n",
      " Factor NZ  : 6.790e+02\n",
      " Factor Ops : 1.097e+04 (less than 1 second per iteration)\n",
      " Threads    : 1\n",
      "\n",
      "                  Objective                Residual\n",
      "Iter       Primal          Dual         Primal    Dual     Compl     Time\n",
      "   0   7.66466909e+02  5.48634140e+02  1.35e+02 3.28e+01  1.35e+02     1s\n",
      "   1   5.62067742e+02  1.35644038e+03  7.36e+00 1.19e+00  1.27e+01     1s\n",
      "   2   5.97004190e+02  9.27501442e+02  9.93e-02 6.27e-02  1.89e+00     1s\n",
      "   3   7.67650541e+02  8.78430710e+02  7.40e-05 0.00e+00  5.96e-01     1s\n",
      "   4   8.75239446e+02  8.77414694e+02  6.93e-07 1.07e-14  1.17e-02     1s\n",
      "   5   8.75363611e+02  8.75446281e+02  1.71e-09 1.42e-14  4.44e-04     1s\n",
      "   6   8.75422125e+02  8.75422143e+02  5.33e-13 1.42e-14  9.85e-08     1s\n",
      "   7   8.75422128e+02  8.75422128e+02  7.11e-15 1.42e-14  9.85e-11     1s\n",
      "\n",
      "Barrier solved model in 7 iterations and 0.82 seconds\n",
      "Optimal objective 8.75422128e+02\n",
      "\n",
      "Crossover log...\n",
      "\n",
      "       0 DPushes remaining with DInf 0.0000000e+00                 1s\n",
      "\n",
      "       0 PPushes remaining with PInf 0.0000000e+00                 1s\n",
      "\n",
      "  Push phase complete: Pinf 0.0000000e+00, Dinf 1.1102230e-15      1s\n",
      "\n",
      "Iteration    Objective       Primal Inf.    Dual Inf.      Time\n",
      "       3    8.7542213e+02   0.000000e+00   0.000000e+00      1s\n",
      "Extra 81 simplex iterations after uncrush\n",
      "\n",
      "Solved with dual simplex\n",
      "Solved in 1604 iterations and 1.41 seconds\n",
      "Optimal objective  8.754221285e+02\n",
      "8.0 11 12 0\n",
      "16.0 11 36 0\n",
      "27.0 17 34 0\n",
      "27.0 21 20 0\n",
      "29.0 25 8 0\n",
      "33.0 25 28 0\n",
      "24.0 28 22 0\n",
      "[ 30.98]\n"
     ]
    }
   ],
   "source": [
    "decisionSolver = decisionRule.decisionRule(reader)\n",
    "decisionSolver.construct()\n",
    "#decisionSolver.echoInput()\n",
    "#decisionSolver.echoVal()\n",
    "decisionSolver.addVar()\n",
    "decisionSolver.addOpt()\n",
    "decisionSolver.addConstr()\n",
    "decisionSolver.solve()\n",
    "\n",
    "simulator = simulation.simulation(decisionSolver)\n",
    "simulator.construct()\n",
    "simulator.run(100)"
   ]
  },
  {
   "cell_type": "code",
   "execution_count": 8,
   "metadata": {
    "collapsed": false
   },
   "outputs": [
    {
     "name": "stdout",
     "output_type": "stream",
     "text": [
      "Optimize a model with 55890 rows, 136850 columns and 134855 nonzeros\n",
      "Coefficient statistics:\n",
      "  Matrix range    [5e-04, 1e+00]\n",
      "  Objective range [3e-02, 8e+00]\n",
      "  Bounds range    [0e+00, 0e+00]\n",
      "  RHS range       [1e+00, 1e+00]\n",
      "\n",
      "Concurrent LP optimizer: dual simplex and barrier\n",
      "Showing barrier log only...\n",
      "\n",
      "Presolve removed 31161 rows and 122694 columns\n",
      "Presolve time: 0.25s\n",
      "Presolved: 24729 rows, 14156 columns, 72352 nonzeros\n",
      "\n",
      "Ordering time: 0.03s\n",
      "\n",
      "Barrier statistics:\n",
      " AA' NZ     : 1.219e+05\n",
      " Factor NZ  : 8.358e+05 (roughly 23 MBytes of memory)\n",
      " Factor Ops : 7.660e+07 (less than 1 second per iteration)\n",
      " Threads    : 1\n",
      "\n",
      "                  Objective                Residual\n",
      "Iter       Primal          Dual         Primal    Dual     Compl     Time\n",
      "   0   1.22598208e+03  5.21795182e+03  2.17e+00 1.67e+00  6.33e+00     0s\n",
      "   1   7.33789881e+02  2.23641339e+04  8.31e-01 6.92e-01  2.25e+00     0s\n",
      "   2   5.40987315e+02  1.12057792e+04  2.22e-01 4.00e-15  5.30e-01     1s\n",
      "   3   5.50127240e+02  2.11361567e+03  9.09e-03 1.67e-15  4.67e-02     1s\n",
      "   4   5.74963101e+02  7.31703111e+02  3.98e-04 2.44e-15  4.20e-03     1s\n",
      "   5   5.86703718e+02  6.08393352e+02  2.51e-05 1.67e-15  5.78e-04     1s\n",
      "   6   5.88678460e+02  5.92567301e+02  2.31e-06 6.66e-16  1.03e-04     1s\n",
      "   7   5.88991903e+02  5.89994732e+02  3.76e-07 6.66e-16  2.67e-05     1s\n",
      "   8   5.89069413e+02  5.89249196e+02  2.75e-08 7.77e-16  4.78e-06     1s\n",
      "   9   5.89080311e+02  5.89103799e+02  1.10e-09 1.11e-15  6.24e-07     1s\n",
      "  10   5.89081333e+02  5.89085127e+02  7.68e-10 5.55e-16  1.01e-07     1s\n",
      "  11   5.89081496e+02  5.89082256e+02  2.42e-09 1.78e-15  2.02e-08     1s\n",
      "  12   5.89081522e+02  5.89081896e+02  6.94e-09 4.44e-16  9.92e-09     1s\n",
      "  13   5.89081568e+02  5.89081698e+02  1.83e-08 9.99e-16  3.44e-09     1s\n",
      "\n",
      "Barrier performed 13 iterations in 1.48 seconds\n",
      "Barrier solve interrupted - model solved by another algorithm\n",
      "\n",
      "\n",
      "Solved with dual simplex\n",
      "Solved in 9117 iterations and 1.54 seconds\n",
      "Optimal objective  5.890815977e+02\n"
     ]
    }
   ],
   "source": [
    "reduction = rALP.rALP(reader)\n",
    "reduction.construct()\n",
    "reduction.addVar()\n",
    "reduction.addOpt()\n",
    "reduction.addConstr()\n",
    "reduction.solve()"
   ]
  },
  {
   "cell_type": "code",
   "execution_count": null,
   "metadata": {
    "collapsed": true
   },
   "outputs": [],
   "source": []
  }
 ],
 "metadata": {
  "kernelspec": {
   "display_name": "Python 2",
   "language": "python",
   "name": "python2"
  },
  "language_info": {
   "codemirror_mode": {
    "name": "ipython",
    "version": 2
   },
   "file_extension": ".py",
   "mimetype": "text/x-python",
   "name": "python",
   "nbconvert_exporter": "python",
   "pygments_lexer": "ipython2",
   "version": "2.7.12"
  }
 },
 "nbformat": 4,
 "nbformat_minor": 0
}
