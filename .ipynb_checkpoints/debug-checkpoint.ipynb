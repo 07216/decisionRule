{
 "cells": [
  {
   "cell_type": "code",
   "execution_count": 1,
   "metadata": {
    "collapsed": true
   },
   "outputs": [],
   "source": [
    "\n",
    "\n",
    "import Input\n",
    "import sys\n",
    "import decisionRule\n",
    "import rALP\n",
    "import time\n",
    "import simulation\n",
    "import CustomizeDemand\n",
    "import gene\n",
    "import numpy as np\n",
    "#from guppy import hpy\n",
    "\n",
    "reductionALP=0\n",
    "firstCaseInReSolve=1\n",
    "secondCaseInReSolve=2\n",
    "'''\n",
    "choose,t,limt,d,T = int(sys.argv[1]),int(sys.argv[2]),int(sys.argv[3]),int(sys.argv[4]),int(sys.argv[5])\n",
    "demander = CustomizeDemand.CustomizeDemand(choose,t,limt,d,T)\n",
    "'''\n",
    "demander = CustomizeDemand.CustomizeDemand(1,5,5,1,1)"
   ]
  },
  {
   "cell_type": "code",
   "execution_count": 4,
   "metadata": {
    "collapsed": false
   },
   "outputs": [
    {
     "name": "stdout",
     "output_type": "stream",
     "text": [
      "Input End 0.0\n",
      "AddVar End 1.9538856822\n",
      "AddOpt End 3.38457564572\n",
      "AddCons End 233.411995085\n",
      "Optimize a model with 318020 rows, 370520 columns and 1233060 nonzeros\n",
      "Coefficient statistics:\n",
      "  Matrix range    [7e-02, 1e+02]\n",
      "  Objective range [1e-17, 5e+02]\n",
      "  Bounds range    [2e-01, 5e+01]\n",
      "  RHS range       [4e+02, 4e+02]\n",
      "\n",
      "Concurrent LP optimizer: dual simplex and barrier\n",
      "Showing barrier log only...\n",
      "\n",
      "Presolve removed 318020 rows and 370520 columns\n",
      "Presolve time: 0.55s\n",
      "Presolve: All rows and columns removed\n",
      "Iteration    Objective       Primal Inf.    Dual Inf.      Time\n",
      "       0    4.5383969e+05   0.000000e+00   0.000000e+00      1s\n",
      "\n",
      "Solved with dual simplex\n",
      "Solved in 0 iterations and 1.07 seconds\n",
      "Optimal objective  4.538396940e+05\n"
     ]
    }
   ],
   "source": [
    "\n",
    "decisionSolver = decisionRule.decisionRule()\n",
    "#   decisionSolver.echoInput()\n",
    "#decisionSolver.echoVal()\n",
    "decisionSolver.inputDemand(demander)\n",
    "start = time.clock()\n",
    "print \"Input End\",start\n",
    "decisionSolver.addVar()\n",
    "print \"AddVar End\",time.clock()\n",
    "decisionSolver.addOpt()\n",
    "print \"AddOpt End\",time.clock()\n",
    "decisionSolver.addConstr()\n",
    "end = time.clock()\n",
    "print \"AddCons End\",end\n",
    "#decisionSolver.writeMPS()\n",
    "decisionSolver.solve()   \n",
    "#decisionSolver.expectedLeftDemand()\n",
    "#decisionSolver.echoOpt()    \n",
    "\n"
   ]
  },
  {
   "cell_type": "code",
   "execution_count": 6,
   "metadata": {
    "collapsed": false
   },
   "outputs": [
    {
     "name": "stdout",
     "output_type": "stream",
     "text": [
      "[ 347359.4]\n",
      "[ 347537.34]\n",
      "[ 348114.06]\n",
      "[ 346912.72]\n",
      "[ 347024.]\n",
      "[ 348074.9]\n"
     ]
    }
   ],
   "source": [
    "simulator = simulation.simulation(decisionSolver,demander)\n",
    "\n",
    "#simulator.initX()\n",
    "#simulator.initXX()\n",
    "#simulator.echoXX()\n",
    "#simulator.bookLimLeft()\n",
    "print simulator.bookLimRun(np.round,1000)\n",
    "print simulator.bookLimRun(np.ceil,1000)\n",
    "print simulator.bookLimRun(np.floor,1000)\n",
    "print simulator.bookLimRun(simulator.atLeastOne,1000)\n",
    "print simulator.bookLimRun(simulator.atLeastTwo,1000)\n",
    "print simulator.bookLimRun(simulator.atLeastThree,1000)\n"
   ]
  },
  {
   "cell_type": "code",
   "execution_count": 10,
   "metadata": {
    "collapsed": false
   },
   "outputs": [
    {
     "ename": "AttributeError",
     "evalue": "'numpy.ndarray' object has no attribute 'X'",
     "output_type": "error",
     "traceback": [
      "\u001b[1;31m---------------------------------------------------------------------------\u001b[0m",
      "\u001b[1;31mAttributeError\u001b[0m                            Traceback (most recent call last)",
      "\u001b[1;32m<ipython-input-10-70f4f391dc71>\u001b[0m in \u001b[0;36m<module>\u001b[1;34m()\u001b[0m\n\u001b[0;32m      3\u001b[0m     \u001b[1;32mfor\u001b[0m \u001b[0mj\u001b[0m \u001b[1;32min\u001b[0m \u001b[0mrange\u001b[0m\u001b[1;33m(\u001b[0m\u001b[0mdecisionSolver\u001b[0m\u001b[1;33m.\u001b[0m\u001b[0mj\u001b[0m\u001b[1;33m)\u001b[0m\u001b[1;33m:\u001b[0m\u001b[1;33m\u001b[0m\u001b[0m\n\u001b[0;32m      4\u001b[0m         \u001b[1;32mfor\u001b[0m \u001b[0mi\u001b[0m \u001b[1;32min\u001b[0m \u001b[0mdecisionSolver\u001b[0m\u001b[1;33m.\u001b[0m\u001b[0mrefJ\u001b[0m\u001b[1;33m[\u001b[0m\u001b[0mj\u001b[0m\u001b[1;33m]\u001b[0m\u001b[1;33m:\u001b[0m\u001b[1;33m\u001b[0m\u001b[0m\n\u001b[1;32m----> 5\u001b[1;33m             \u001b[0mc\u001b[0m\u001b[1;33m[\u001b[0m\u001b[0mi\u001b[0m\u001b[1;33m]\u001b[0m \u001b[1;33m-=\u001b[0m \u001b[0mdecisionSolver\u001b[0m\u001b[1;33m.\u001b[0m\u001b[0mx\u001b[0m\u001b[1;33m[\u001b[0m\u001b[0mt\u001b[0m\u001b[1;33m,\u001b[0m\u001b[0mj\u001b[0m\u001b[1;33m,\u001b[0m\u001b[1;36m0\u001b[0m\u001b[1;33m]\u001b[0m\u001b[1;33m.\u001b[0m\u001b[0mX\u001b[0m\u001b[1;33m\u001b[0m\u001b[0m\n\u001b[0m\u001b[0;32m      6\u001b[0m         \u001b[1;32mfor\u001b[0m \u001b[0md\u001b[0m \u001b[1;32min\u001b[0m \u001b[0mrange\u001b[0m\u001b[1;33m(\u001b[0m\u001b[0mdecisionSolver\u001b[0m\u001b[1;33m.\u001b[0m\u001b[0md\u001b[0m\u001b[1;33m)\u001b[0m\u001b[1;33m:\u001b[0m\u001b[1;33m\u001b[0m\u001b[0m\n\u001b[0;32m      7\u001b[0m             \u001b[0mc\u001b[0m\u001b[1;33m[\u001b[0m\u001b[0mi\u001b[0m\u001b[1;33m]\u001b[0m \u001b[1;33m-=\u001b[0m \u001b[0mdecisionSolver\u001b[0m\u001b[1;33m.\u001b[0m\u001b[0mxx\u001b[0m\u001b[1;33m[\u001b[0m\u001b[0mt\u001b[0m\u001b[1;33m,\u001b[0m\u001b[0mj\u001b[0m\u001b[1;33m,\u001b[0m\u001b[0md\u001b[0m\u001b[1;33m]\u001b[0m\u001b[1;33m.\u001b[0m\u001b[0mX\u001b[0m \u001b[1;33m*\u001b[0m \u001b[0mdecisionSolver\u001b[0m\u001b[1;33m.\u001b[0m\u001b[0mxi\u001b[0m\u001b[1;33m[\u001b[0m\u001b[1;36m1\u001b[0m\u001b[1;33m+\u001b[0m\u001b[1;33m(\u001b[0m\u001b[0mt\u001b[0m\u001b[1;33m*\u001b[0m\u001b[0mself\u001b[0m\u001b[1;33m.\u001b[0m\u001b[0mj\u001b[0m\u001b[1;33m+\u001b[0m\u001b[0mj\u001b[0m\u001b[1;33m)\u001b[0m\u001b[1;33m*\u001b[0m\u001b[0mdecisionSolver\u001b[0m\u001b[1;33m.\u001b[0m\u001b[0md\u001b[0m\u001b[1;33m+\u001b[0m\u001b[0md\u001b[0m\u001b[1;33m]\u001b[0m\u001b[1;33m\u001b[0m\u001b[0m\n",
      "\u001b[1;31mAttributeError\u001b[0m: 'numpy.ndarray' object has no attribute 'X'"
     ]
    }
   ],
   "source": [
    "c = decisionSolver.c.copy()\n",
    "for t in range(decisionSolver.t):\n",
    "    for j in range(decisionSolver.j):\n",
    "        for i in decisionSolver.refJ[j]:\n",
    "            for a in range(decisionSolver.a):\n",
    "                for b in range(decisionSolver.b):\n",
    "                    c[i] -= decisionSolver.x[t,j,a,b]*self.xi[t,j,a,b]\n",
    "print c"
   ]
  },
  {
   "cell_type": "code",
   "execution_count": null,
   "metadata": {
    "collapsed": false
   },
   "outputs": [],
   "source": [
    "demander.ylb[2,5]"
   ]
  },
  {
   "cell_type": "code",
   "execution_count": null,
   "metadata": {
    "collapsed": true
   },
   "outputs": [],
   "source": []
  }
 ],
 "metadata": {
  "anaconda-cloud": {},
  "kernelspec": {
   "display_name": "Python [Root]",
   "language": "python",
   "name": "Python [Root]"
  },
  "language_info": {
   "codemirror_mode": {
    "name": "ipython",
    "version": 2
   },
   "file_extension": ".py",
   "mimetype": "text/x-python",
   "name": "python",
   "nbconvert_exporter": "python",
   "pygments_lexer": "ipython2",
   "version": "2.7.12"
  }
 },
 "nbformat": 4,
 "nbformat_minor": 0
}
