{
 "cells": [
  {
   "cell_type": "code",
   "execution_count": null,
   "metadata": {
    "collapsed": false
   },
   "outputs": [],
   "source": [
    "\n",
    "\n",
    "import Input\n",
    "import sys\n",
    "import decisionRule\n",
    "import rALP\n",
    "import time\n",
    "import simulation\n",
    "import CustomizeDemand\n",
    "import gene\n",
    "import numpy as np\n",
    "#from guppy import hpy\n",
    "\n",
    "reductionALP=0\n",
    "firstCaseInReSolve=1\n",
    "secondCaseInReSolve=2\n",
    "'''\n",
    "choose,t,limt,d,T = int(sys.argv[1]),int(sys.argv[2]),int(sys.argv[3]),int(sys.argv[4]),int(sys.argv[5])\n",
    "demander = CustomizeDemand.CustomizeDemand(choose,t,limt,d,T)\n",
    "'''\n",
    "demander = CustomizeDemand.CustomizeDemand(0,10,5,1,20)"
   ]
  },
  {
   "cell_type": "code",
   "execution_count": null,
   "metadata": {
    "collapsed": false
   },
   "outputs": [],
   "source": [
    "\n",
    "decisionSolver = decisionRule.decisionRule()\n",
    "#   decisionSolver.echoInput()\n",
    "#decisionSolver.echoVal()\n",
    "decisionSolver.inputDemand(demander)\n",
    "start = time.clock()\n",
    "print \"Input End\",start\n",
    "decisionSolver.addVar()\n",
    "print \"AddVar End\",time.clock()\n",
    "decisionSolver.addOpt()\n",
    "print \"AddOpt End\",time.clock()\n",
    "decisionSolver.addConstr()\n",
    "end = time.clock()\n",
    "print \"AddCons End\",end\n",
    "#decisionSolver.writeMPS()\n",
    "decisionSolver.solve()   \n",
    "#decisionSolver.expectedLeftDemand()\n",
    "#decisionSolver.echoOpt()    \n",
    "\n"
   ]
  },
  {
   "cell_type": "code",
   "execution_count": null,
   "metadata": {
    "collapsed": false,
    "scrolled": true
   },
   "outputs": [],
   "source": [
    "simulator = simulation.simulation(decisionSolver,demander)\n",
    "\n",
    "#simulator.initX()\n",
    "#simulator.initXX()\n",
    "#simulator.echoXX()\n",
    "#simulator.bookLimLeft()\n",
    "print simulator.bookLimRun(np.round,1000)\n",
    "print simulator.bookLimRun(np.ceil,1000)\n",
    "print simulator.bookLimRun(np.floor,1000)\n",
    "print simulator.bookLimRun(simulator.atLeastOne,1000)\n",
    "print simulator.bookLimRun(simulator.atLeastTwo,1000)\n",
    "print simulator.bookLimRun(simulator.atLeastThree,1000)\n"
   ]
  },
  {
   "cell_type": "code",
   "execution_count": null,
   "metadata": {
    "collapsed": false
   },
   "outputs": [],
   "source": [
    "c = decisionSolver.c.copy()\n",
    "for t in range(decisionSolver.t):\n",
    "    for j in range(decisionSolver.j):\n",
    "        for i in decisionSolver.refJ[j]:\n",
    "            for a in range(decisionSolver.a):\n",
    "                for b in range(decisionSolver.b):\n",
    "                    c[i] -= decisionSolver.x[t,j,a,b].x*decisionSolver.xi[t,j,a,b]\n",
    "print c"
   ]
  },
  {
   "cell_type": "code",
   "execution_count": null,
   "metadata": {
    "collapsed": false
   },
   "outputs": [],
   "source": [
    "pd.DataFrame(decisionSolver.w[decisionSolver.t*decisionSolver.j*8+1].todense())"
   ]
  },
  {
   "cell_type": "code",
   "execution_count": null,
   "metadata": {
    "collapsed": false
   },
   "outputs": [],
   "source": [
    "d=decisionSolver"
   ]
  },
  {
   "cell_type": "code",
   "execution_count": null,
   "metadata": {
    "collapsed": false
   },
   "outputs": [],
   "source": [
    "m=demander"
   ]
  },
  {
   "cell_type": "code",
   "execution_count": null,
   "metadata": {
    "collapsed": false
   },
   "outputs": [],
   "source": [
    "obj = 0\n",
    "\n",
    "for t in range(0,self.t):\n",
    "    for j in range(0,self.j):\n",
    "        for a in range(self.a):\n",
    "            for b in range(self.b):\n",
    "                obj += self.v[j,0] * self.x[t,j,a,b].x * self.xi[t,j,a,b]\n",
    "                    "
   ]
  },
  {
   "cell_type": "code",
   "execution_count": null,
   "metadata": {
    "collapsed": false
   },
   "outputs": [],
   "source": [
    "d = decisionSolver"
   ]
  },
  {
   "cell_type": "code",
   "execution_count": null,
   "metadata": {
    "collapsed": false
   },
   "outputs": [],
   "source": [
    "m = demander"
   ]
  },
  {
   "cell_type": "code",
   "execution_count": null,
   "metadata": {
    "collapsed": false
   },
   "outputs": [],
   "source": [
    "x=np.zeros((d.t,d.j,d.a,d.b))\n",
    "for t in range(d.t):\n",
    "    for j in range(d.j):\n",
    "        for a in range(d.a):\n",
    "            for b in range(d.b):\n",
    "                x[t,j,a,b] = d.x[t,j,a,b].x"
   ]
  },
  {
   "cell_type": "code",
   "execution_count": null,
   "metadata": {
    "collapsed": false
   },
   "outputs": [],
   "source": [
    "x[2,2,:,1]"
   ]
  },
  {
   "cell_type": "code",
   "execution_count": null,
   "metadata": {
    "collapsed": false
   },
   "outputs": [],
   "source": [
    "x[2,4,:,1]"
   ]
  },
  {
   "cell_type": "code",
   "execution_count": null,
   "metadata": {
    "collapsed": false
   },
   "outputs": [],
   "source": [
    "%autoreload 2"
   ]
  },
  {
   "cell_type": "code",
   "execution_count": null,
   "metadata": {
    "collapsed": false
   },
   "outputs": [],
   "source": [
    "xi = simulator.nonLinearDemand(simulator.sim())+[1]"
   ]
  },
  {
   "cell_type": "code",
   "execution_count": null,
   "metadata": {
    "collapsed": false
   },
   "outputs": [],
   "source": [
    "d=decisionSolver"
   ]
  },
  {
   "cell_type": "code",
   "execution_count": null,
   "metadata": {
    "collapsed": false
   },
   "outputs": [],
   "source": [
    "sum((d.w.dot(xi)-d.h)<0)"
   ]
  },
  {
   "cell_type": "code",
   "execution_count": null,
   "metadata": {
    "collapsed": false
   },
   "outputs": [],
   "source": [
    "xi=np.array(xi)"
   ]
  },
  {
   "cell_type": "code",
   "execution_count": null,
   "metadata": {
    "collapsed": false
   },
   "outputs": [],
   "source": [
    "print list((d.w.dot(xi)-d.h))"
   ]
  },
  {
   "cell_type": "code",
   "execution_count": null,
   "metadata": {
    "collapsed": false
   },
   "outputs": [],
   "source": [
    "import pandas as pd\n",
    "tt = pd.DataFrame(range(d.row))"
   ]
  },
  {
   "cell_type": "code",
   "execution_count": null,
   "metadata": {
    "collapsed": false
   },
   "outputs": [],
   "source": [
    "tt[d.w.dot(xi)-d.h<-1e-2]"
   ]
  },
  {
   "cell_type": "code",
   "execution_count": null,
   "metadata": {
    "collapsed": false
   },
   "outputs": [],
   "source": [
    "2*d.t*d.j"
   ]
  },
  {
   "cell_type": "code",
   "execution_count": null,
   "metadata": {
    "collapsed": false
   },
   "outputs": [],
   "source": [
    "xi[d.t*d.j+61*d.r:d.t*d.j+62*d.r]"
   ]
  },
  {
   "cell_type": "code",
   "execution_count": null,
   "metadata": {
    "collapsed": false
   },
   "outputs": [],
   "source": [
    "(722-2*d.t * d.j)/2"
   ]
  },
  {
   "cell_type": "code",
   "execution_count": null,
   "metadata": {
    "collapsed": false
   },
   "outputs": [],
   "source": [
    "(d.w.dot(xi)-d.h)[2321]"
   ]
  },
  {
   "cell_type": "code",
   "execution_count": null,
   "metadata": {
    "collapsed": false
   },
   "outputs": [],
   "source": [
    "d.w[2321,:].nonzero()"
   ]
  },
  {
   "cell_type": "code",
   "execution_count": null,
   "metadata": {
    "collapsed": false
   },
   "outputs": [],
   "source": [
    "8*d.t*d.j"
   ]
  },
  {
   "cell_type": "code",
   "execution_count": null,
   "metadata": {
    "collapsed": false
   },
   "outputs": [],
   "source": [
    "4*d.t*d.j"
   ]
  },
  {
   "cell_type": "code",
   "execution_count": null,
   "metadata": {
    "collapsed": false
   },
   "outputs": [],
   "source": [
    "m.T"
   ]
  },
  {
   "cell_type": "code",
   "execution_count": null,
   "metadata": {
    "collapsed": false
   },
   "outputs": [],
   "source": [
    "simulator.run(100)"
   ]
  },
  {
   "cell_type": "code",
   "execution_count": null,
   "metadata": {
    "collapsed": false
   },
   "outputs": [],
   "source": [
    "d=decisionSolver"
   ]
  },
  {
   "cell_type": "code",
   "execution_count": null,
   "metadata": {
    "collapsed": false
   },
   "outputs": [],
   "source": [
    "d.x[2,1,:,5]"
   ]
  },
  {
   "cell_type": "code",
   "execution_count": null,
   "metadata": {
    "collapsed": true
   },
   "outputs": [],
   "source": []
  }
 ],
 "metadata": {
  "anaconda-cloud": {},
  "kernelspec": {
   "display_name": "Python [Root]",
   "language": "python",
   "name": "Python [Root]"
  },
  "language_info": {
   "codemirror_mode": {
    "name": "ipython",
    "version": 2
   },
   "file_extension": ".py",
   "mimetype": "text/x-python",
   "name": "python",
   "nbconvert_exporter": "python",
   "pygments_lexer": "ipython2",
   "version": "2.7.12"
  }
 },
 "nbformat": 4,
 "nbformat_minor": 0
}
