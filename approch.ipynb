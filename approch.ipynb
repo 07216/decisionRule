{
 "cells": [
  {
   "cell_type": "code",
   "execution_count": 2,
   "metadata": {
    "collapsed": true
   },
   "outputs": [],
   "source": [
    "import Input\n",
    "import decisionRule\n",
    "import rALP\n",
    "import time\n",
    "import simulation"
   ]
  },
  {
   "cell_type": "code",
   "execution_count": 3,
   "metadata": {
    "collapsed": false
   },
   "outputs": [],
   "source": [
    "reader = Input.Input()\n",
    "reader.readIn('rm_200_4_1.0_4.0.txt')\n",
    "reader.product()\n",
    "reader.leg()\n",
    "reader.construct()"
   ]
  },
  {
   "cell_type": "code",
   "execution_count": 7,
   "metadata": {
    "collapsed": false
   },
   "outputs": [
    {
     "name": "stdout",
     "output_type": "stream",
     "text": [
      "Optimize a model with 77056 rows, 197656 columns and 271352 nonzeros\n",
      "Coefficient statistics:\n",
      "  Matrix range    [1e+00, 3e+00]\n",
      "  Objective range [2e-05, 8e+00]\n",
      "  Bounds range    [0e+00, 0e+00]\n",
      "  RHS range       [2e+01, 5e+01]\n",
      "\n",
      "Concurrent LP optimizer: dual simplex and barrier\n",
      "Showing barrier log only...\n",
      "\n",
      "Presolve removed 76901 rows and 197348 columns\n",
      "Presolve time: 0.25s\n",
      "Presolved: 155 rows, 308 columns, 612 nonzeros\n",
      "\n",
      "Ordering time: 0.00s\n",
      "\n",
      "Barrier statistics:\n",
      " AA' NZ     : 3.040e+02\n",
      " Factor NZ  : 1.274e+03\n",
      " Factor Ops : 2.168e+04 (less than 1 second per iteration)\n",
      " Threads    : 1\n",
      "\n",
      "                  Objective                Residual\n",
      "Iter       Primal          Dual         Primal    Dual     Compl     Time\n",
      "   0   1.01484747e+03  5.19353031e+02  4.44e+02 1.62e+01  1.50e+02     0s\n",
      "   1   5.79184769e+02  1.56091281e+03  6.91e+01 2.31e-01  2.51e+01     0s\n",
      "   2   5.56844025e+02  1.20701196e+03  6.39e-14 1.80e-02  2.10e+00     0s\n",
      "   3   6.00190205e+02  8.81318193e+02  5.68e-14 2.37e-02  9.08e-01     0s\n",
      "   4   8.70500261e+02  8.84046891e+02  4.26e-13 1.52e-03  4.42e-02     0s\n",
      "   5   8.74807897e+02  8.77262100e+02  5.67e-12 1.64e-05  7.88e-03     0s\n",
      "   6   8.75414778e+02  8.75442493e+02  2.08e-11 0.00e+00  8.89e-05     0s\n",
      "   7   8.75422121e+02  8.75422149e+02  2.27e-13 1.42e-14  8.89e-08     0s\n",
      "   8   8.75422128e+02  8.75422128e+02  1.60e-14 3.55e-15  8.89e-11     0s\n",
      "\n",
      "Barrier solved model in 8 iterations and 0.28 seconds\n",
      "Optimal objective 8.75422128e+02\n",
      "\n",
      "Crossover log...\n",
      "\n",
      "       0 DPushes remaining with DInf 0.0000000e+00                 0s\n",
      "\n",
      "       0 PPushes remaining with PInf 0.0000000e+00                 0s\n",
      "\n",
      "  Push phase complete: Pinf 0.0000000e+00, Dinf 1.1102230e-15      0s\n",
      "\n",
      "Iteration    Objective       Primal Inf.    Dual Inf.      Time\n",
      "       3    8.7542213e+02   0.000000e+00   0.000000e+00      0s\n",
      "\n",
      "Solved with dual simplex\n",
      "Solved in 494 iterations and 0.44 seconds\n",
      "Optimal objective  8.754221285e+02\n"
     ]
    }
   ],
   "source": [
    "decisionSolver = decisionRule.decisionRule(reader)\n",
    "decisionSolver.construct()\n",
    "#decisionSolver.echoInput()\n",
    "#decisionSolver.echoVal()\n",
    "decisionSolver.addVar()\n",
    "decisionSolver.addOpt()\n",
    "decisionSolver.addConstr()\n",
    "decisionSolver.solve()"
   ]
  },
  {
   "cell_type": "code",
   "execution_count": 8,
   "metadata": {
    "collapsed": false
   },
   "outputs": [
    {
     "name": "stdout",
     "output_type": "stream",
     "text": [
      "[ 865.093]\n"
     ]
    }
   ],
   "source": [
    "simulator = simulation.simulation(decisionSolver)\n",
    "simulator.construct()\n",
    "simulator.run(1000)"
   ]
  },
  {
   "cell_type": "code",
   "execution_count": null,
   "metadata": {
    "collapsed": true
   },
   "outputs": [],
   "source": []
  }
 ],
 "metadata": {
  "kernelspec": {
   "display_name": "Python 2",
   "language": "python",
   "name": "python2"
  },
  "language_info": {
   "codemirror_mode": {
    "name": "ipython",
    "version": 2
   },
   "file_extension": ".py",
   "mimetype": "text/x-python",
   "name": "python",
   "nbconvert_exporter": "python",
   "pygments_lexer": "ipython2",
   "version": "2.7.12"
  }
 },
 "nbformat": 4,
 "nbformat_minor": 0
}
